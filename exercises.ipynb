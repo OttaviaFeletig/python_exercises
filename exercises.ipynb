{
 "cells": [
  {
   "cell_type": "code",
   "execution_count": 1,
   "metadata": {},
   "outputs": [
    {
     "name": "stdout",
     "output_type": "stream",
     "text": [
      "Kyung\n"
     ]
    }
   ],
   "source": [
    "not_my_name = 'Kyung'\n",
    "print(not_my_name)\n",
    "\n",
    "print('hello')\n",
    "\n",
    "\n",
    "\n",
    "print('secret')\n",
    "print('secret 3')\n"
   ]
  },
  {
   "cell_type": "code",
   "execution_count": 2,
   "metadata": {},
   "outputs": [
    {
     "name": "stdout",
     "output_type": "stream",
     "text": [
      "33\n"
     ]
    }
   ],
   "source": [
    "age = 33\n",
    "print(age)"
   ]
  },
  {
   "cell_type": "markdown",
   "metadata": {},
   "source": []
  },
  {
   "cell_type": "markdown",
   "metadata": {},
   "source": []
  },
  {
   "cell_type": "code",
   "execution_count": 3,
   "metadata": {},
   "outputs": [
    {
     "name": "stdout",
     "output_type": "stream",
     "text": [
      "1\n"
     ]
    }
   ],
   "source": [
    "julia_age = 32\n",
    "age_diff = age - julia_age\n",
    "print(age_diff)"
   ]
  },
  {
   "cell_type": "code",
   "execution_count": 4,
   "metadata": {},
   "outputs": [
    {
     "name": "stdout",
     "output_type": "stream",
     "text": [
      "You are older than 21\n"
     ]
    }
   ],
   "source": [
    "if age > 21:\n",
    "    print ('You are older than 21')\n",
    "else: \n",
    "    print ('You are not older than 21')\n"
   ]
  },
  {
   "cell_type": "code",
   "execution_count": 5,
   "metadata": {},
   "outputs": [
    {
     "name": "stdout",
     "output_type": "stream",
     "text": [
      "Julia is younger than you\n"
     ]
    }
   ],
   "source": [
    "if age == julia_age:\n",
    "    print ('You have the same age as Julia')\n",
    "elif age > julia_age:\n",
    "    print ('Julia is younger than you')\n",
    "else: print('Julia is older than you')"
   ]
  },
  {
   "cell_type": "code",
   "execution_count": 6,
   "metadata": {},
   "outputs": [
    {
     "name": "stdout",
     "output_type": "stream",
     "text": [
      "['George', 'Killian', 'Kyung', 'Nidhi', 'Virginia']\n",
      "George\n",
      "Virginia\n",
      "George\n",
      "Killian\n",
      "Kyung\n",
      "Nidhi\n",
      "Virginia\n"
     ]
    }
   ],
   "source": [
    "class_list = ['Virginia', 'Killian', 'George', 'Nidhi', 'Kyung']\n",
    "class_list.sort()\n",
    "print(class_list)\n",
    "print(class_list[0])\n",
    "print(class_list[-1])\n",
    "for name in class_list:\n",
    "    print(name)\n"
   ]
  },
  {
   "cell_type": "code",
   "execution_count": 7,
   "metadata": {},
   "outputs": [
    {
     "name": "stdout",
     "output_type": "stream",
     "text": [
      "33\n",
      "24\n",
      "31\n",
      "24\n",
      "33\n",
      "24\n",
      "31\n",
      "24\n"
     ]
    }
   ],
   "source": [
    "age_list = [33, 24, 31]\n",
    "for num in age_list:\n",
    "    print(num)\n",
    "\n",
    "for num in age_list:\n",
    "    if num%2 == 0:\n",
    "        print(num)\n",
    "\n",
    "n = 0\n",
    "while n < len(age_list):\n",
    "    print (age_list[n])\n",
    "    n+=1\n",
    "\n",
    "n = 0\n",
    "while n < len (age_list):\n",
    "    if age_list[n]%2 == 0:\n",
    "        print (age_list[n])\n",
    "    n+=1\n"
   ]
  },
  {
   "cell_type": "code",
   "execution_count": 8,
   "metadata": {},
   "outputs": [
    {
     "name": "stdout",
     "output_type": "stream",
     "text": [
      "-12\n"
     ]
    }
   ],
   "source": [
    "nums = [1, 2, 3, 5, 9, 23, 19, 33, -1, 0, -12]\n",
    "print(min(nums))"
   ]
  },
  {
   "cell_type": "code",
   "execution_count": 9,
   "metadata": {},
   "outputs": [
    {
     "name": "stdout",
     "output_type": "stream",
     "text": [
      "33\n"
     ]
    }
   ],
   "source": [
    "print (max(nums))"
   ]
  },
  {
   "cell_type": "code",
   "execution_count": 10,
   "metadata": {},
   "outputs": [
    {
     "name": "stdout",
     "output_type": "stream",
     "text": [
      "1999\n",
      "1995\n",
      "2005\n",
      "2010\n",
      "2007\n",
      "2006\n",
      "1994\n",
      "1996\n",
      "1979\n",
      "2008\n"
     ]
    }
   ],
   "source": [
    "years_of_birth = [1999, 1995, 2005, 2010, 2007, 2006, 1994, 1996, 1979, 2008]\n",
    "for year in years_of_birth:\n",
    "    print (year)"
   ]
  },
  {
   "cell_type": "code",
   "execution_count": 11,
   "metadata": {},
   "outputs": [
    {
     "name": "stdout",
     "output_type": "stream",
     "text": [
      "Bob 1999\n",
      "Jack 1995\n",
      "Lisa 2005\n",
      "Maria 2010\n",
      "Ben 2007\n",
      "Emma 2006\n",
      "Oscar 1994\n",
      "Amy 1996\n",
      "Paul 1979\n",
      "Etta 2008\n"
     ]
    }
   ],
   "source": [
    "customer_list = [\n",
    "                    {\"name\": \"Bob\", \"age\": 1999},\n",
    "                    {\"name\": \"Jack\", \"age\": 1995},\n",
    "                    {\"name\": \"Lisa\", \"age\": 2005},\n",
    "                    {\"name\": \"Maria\", \"age\": 2010},\n",
    "                    {\"name\": \"Ben\", \"age\": 2007},\n",
    "                    {\"name\": \"Emma\", \"age\": 2006},\n",
    "                    {\"name\": \"Oscar\", \"age\": 1994},\n",
    "                    {\"name\": \"Amy\", \"age\": 1996},\n",
    "                    {\"name\": \"Paul\", \"age\": 1979},\n",
    "                    {\"name\": \"Etta\", \"age\": 2008}\n",
    "                ]\n",
    "for person in customer_list:\n",
    "    print (person['name'], person['age'])"
   ]
  },
  {
   "cell_type": "code",
   "execution_count": 12,
   "metadata": {},
   "outputs": [
    {
     "name": "stdout",
     "output_type": "stream",
     "text": [
      "[9, 11, 12, 13, 14, 20, 23, 24, 25, 40]\n",
      "[11, 12, 13, 14, 20, 23, 24, 25]\n"
     ]
    }
   ],
   "source": [
    "ages = [20, 24, 14, 9, 12, 13, 25, 23, 40, 11]\n",
    "ages.sort()\n",
    "print(ages)\n",
    "ages.pop(0)\n",
    "ages.pop(-1)\n",
    "print(ages)"
   ]
  },
  {
   "cell_type": "code",
   "execution_count": 13,
   "metadata": {},
   "outputs": [
    {
     "name": "stdout",
     "output_type": "stream",
     "text": [
      "[15, 13, 16, 18, 19, 10]\n"
     ]
    }
   ],
   "source": [
    "berlin = [15, 13, 16, 18, 19, 10, 12 ]\n",
    "munich = [7, 13, 15, 20, 19, 18, 10, 16]\n",
    "common = [num for num in berlin if num in munich]\n",
    "print(common)"
   ]
  },
  {
   "cell_type": "code",
   "execution_count": 14,
   "metadata": {},
   "outputs": [
    {
     "name": "stdout",
     "output_type": "stream",
     "text": [
      "[10, 13, 15, 16, 18, 19]\n"
     ]
    }
   ],
   "source": [
    "common_no_duplicates = set(common)\n",
    "common_no_duplicates = list(common_no_duplicates)\n",
    "print(common_no_duplicates)"
   ]
  },
  {
   "cell_type": "code",
   "execution_count": 15,
   "metadata": {},
   "outputs": [
    {
     "name": "stdout",
     "output_type": "stream",
     "text": [
      "Welcome Evelyn, have a nice day!\n",
      "Welcome Jost, have a nice day!\n"
     ]
    }
   ],
   "source": [
    "# Ex 15\n",
    "\n",
    "def welcome(string):\n",
    "    print(f'Welcome {string}, have a nice day!')\n",
    "\n",
    "welcome('Evelyn')\n",
    "welcome('Jost')"
   ]
  },
  {
   "cell_type": "code",
   "execution_count": 16,
   "metadata": {},
   "outputs": [
    {
     "name": "stdout",
     "output_type": "stream",
     "text": [
      "5\n",
      "2\n"
     ]
    }
   ],
   "source": [
    "# Ex 16\n",
    "\n",
    "def get_length(string):\n",
    "    length = len(string)\n",
    "    print (length)\n",
    "\n",
    "get_length('Hello')\n",
    "get_length('Hi')"
   ]
  },
  {
   "cell_type": "code",
   "execution_count": 17,
   "metadata": {},
   "outputs": [
    {
     "name": "stdout",
     "output_type": "stream",
     "text": [
      "No\n"
     ]
    }
   ],
   "source": [
    "# Ex 17\n",
    "\n",
    "def check_even(num):\n",
    "    remainder = num%2\n",
    "    if remainder == 0:\n",
    "        print ('Yes')\n",
    "    else:\n",
    "        print('No')\n",
    "    \n",
    "check_even(5)"
   ]
  },
  {
   "cell_type": "code",
   "execution_count": 18,
   "metadata": {},
   "outputs": [
    {
     "name": "stdout",
     "output_type": "stream",
     "text": [
      "Bob 1999\n",
      "Jack 1995\n",
      "Lisa 2005\n",
      "Maria 2010\n",
      "Ben 2007\n",
      "Emma 2006\n",
      "Oscar 1994\n",
      "Amy 1996\n",
      "Paul 1979\n",
      "Etta 2008\n"
     ]
    }
   ],
   "source": [
    "# Ex 18 – # Ex 11\n",
    "\n",
    "def name_age(list_of_dicts):\n",
    "    for person in list_of_dicts:\n",
    "        print (person['name'], person['age'])\n",
    "\n",
    "customer_list = [\n",
    "                    {\"name\": \"Bob\", \"age\": 1999},\n",
    "                    {\"name\": \"Jack\", \"age\": 1995},\n",
    "                    {\"name\": \"Lisa\", \"age\": 2005},\n",
    "                    {\"name\": \"Maria\", \"age\": 2010},\n",
    "                    {\"name\": \"Ben\", \"age\": 2007},\n",
    "                    {\"name\": \"Emma\", \"age\": 2006},\n",
    "                    {\"name\": \"Oscar\", \"age\": 1994},\n",
    "                    {\"name\": \"Amy\", \"age\": 1996},\n",
    "                    {\"name\": \"Paul\", \"age\": 1979},\n",
    "                    {\"name\": \"Etta\", \"age\": 2008}\n",
    "                ]\n",
    "name_age(customer_list)"
   ]
  },
  {
   "cell_type": "code",
   "execution_count": 19,
   "metadata": {},
   "outputs": [
    {
     "name": "stdout",
     "output_type": "stream",
     "text": [
      "[11, 12, 13, 14, 20, 23, 24, 25]\n"
     ]
    }
   ],
   "source": [
    "# Ex 18 – Ex 12\n",
    "\n",
    "def rem_young_old(list):\n",
    "    list.sort()\n",
    "    list.pop(0)\n",
    "    list.pop(-1)\n",
    "    return list\n",
    "\n",
    "ages = [20, 24, 14, 9, 12, 13, 25, 23, 40, 11]\n",
    "print(rem_young_old(ages))"
   ]
  },
  {
   "cell_type": "code",
   "execution_count": 20,
   "metadata": {},
   "outputs": [
    {
     "name": "stdout",
     "output_type": "stream",
     "text": [
      "[15, 13, 16, 18, 19, 10]\n"
     ]
    }
   ],
   "source": [
    "# Ex 18 – Ex 13\n",
    "\n",
    "def intersection(list1, list2):\n",
    "    in_both = [num for num in list1 if num in list2]\n",
    "    return in_both\n",
    "\n",
    "berlin = [15, 13, 16, 18, 19, 10, 12 ]\n",
    "munich = [7, 13, 15, 20, 19, 18, 10, 16]\n",
    "\n",
    "print(intersection(berlin, munich))"
   ]
  },
  {
   "cell_type": "code",
   "execution_count": 21,
   "metadata": {},
   "outputs": [
    {
     "name": "stdout",
     "output_type": "stream",
     "text": [
      "[15, 13, 16, 18, 19, 10]\n"
     ]
    }
   ],
   "source": [
    "# Ex 18 – Ex 14\n",
    "\n",
    "def rem_dup (list):\n",
    "    stripped = []\n",
    "    for num in list:\n",
    "        if num not in stripped:\n",
    "            stripped.append(num)\n",
    "    return stripped\n",
    "\n",
    "print (rem_dup([15,13,16,18,19,15,10]))"
   ]
  },
  {
   "cell_type": "code",
   "execution_count": 22,
   "metadata": {},
   "outputs": [
    {
     "name": "stdout",
     "output_type": "stream",
     "text": [
      "False\n",
      "True\n"
     ]
    }
   ],
   "source": [
    "# Ex 19\n",
    "\n",
    "def num_finder(list, value):\n",
    "    return value in list\n",
    "\n",
    "print (num_finder([1,3,5], 2))\n",
    "print (num_finder([1,3,5], 3))"
   ]
  },
  {
   "cell_type": "code",
   "execution_count": 24,
   "metadata": {},
   "outputs": [
    {
     "name": "stdout",
     "output_type": "stream",
     "text": [
      "1\n"
     ]
    }
   ],
   "source": [
    "print (1)"
   ]
  },
  {
   "cell_type": "code",
   "execution_count": null,
   "metadata": {},
   "outputs": [],
   "source": [
    "print(\"hello\")"
   ]
  }
 ],
 "metadata": {
  "interpreter": {
   "hash": "40d3a090f54c6569ab1632332b64b2c03c39dcf918b08424e98f38b5ae0af88f"
  },
  "kernelspec": {
   "display_name": "Python 3.9.7 ('base')",
   "language": "python",
   "name": "python3"
  },
  "language_info": {
   "codemirror_mode": {
    "name": "ipython",
    "version": 3
   },
   "file_extension": ".py",
   "mimetype": "text/x-python",
   "name": "python",
   "nbconvert_exporter": "python",
   "pygments_lexer": "ipython3",
   "version": "3.9.7"
  },
  "orig_nbformat": 4
 },
 "nbformat": 4,
 "nbformat_minor": 2
}
